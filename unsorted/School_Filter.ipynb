{
 "cells": [
  {
   "cell_type": "code",
   "execution_count": 93,
   "metadata": {},
   "outputs": [],
   "source": [
    "import pandas as pd\n",
    "import numpy as np\n",
    "import matplotlib.pylab as plt\n",
    "import seaborn as sns\n",
    "\n",
    "df = pd.read_csv(\"/Users/Yur/Downloads/ovitrap_data_with_province.csv\", index_col=[0], usecols = ['date', 'id', 'value', 'adm'])"
   ]
  },
  {
   "cell_type": "markdown",
   "metadata": {},
   "source": [
    "## Get a summary of the data per school, this makes the datacleaning more easy\n",
    "    - Get schools with more than 40 observations, to have more reliable measurements\n",
    "    - Filter schools with a maximum level that is less than 10 (very unlikely, probably misreporting)\n",
    "    - Filter school with very high means (result of misreporting)\n",
    "    - Filter schools with more than 75% 100's or 0's\n",
    "    - Filter schools with only the same observations\n",
    "    - Remove values that are between (0, 1.5], [98.5, 100)  as it is not plausible that a school has more than 60 ovitraps\n",
    "    "
   ]
  },
  {
   "cell_type": "code",
   "execution_count": 94,
   "metadata": {},
   "outputs": [],
   "source": [
    "summary_df = df.groupby(['id']).describe()"
   ]
  },
  {
   "cell_type": "code",
   "execution_count": 95,
   "metadata": {},
   "outputs": [],
   "source": [
    "summary_df.columns = summary_df.columns.droplevel(0)"
   ]
  },
  {
   "cell_type": "code",
   "execution_count": 96,
   "metadata": {},
   "outputs": [
    {
     "name": "stdout",
     "output_type": "stream",
     "text": [
      "Lost values more than n values per school:  94464\n",
      "Lost values for schools that have a maximum less than 10:  1727\n",
      "Lost values for schools with a mean higher than 90:  241\n",
      "75% zeros and a max of 100:  259\n",
      "75% of values is equal to max:  887\n",
      "Mean lower than 2 and max higher than 50:  69\n",
      "Amount of values that are between 0 < x < 1.5:  198\n",
      "Amount of vaues between 98.5 < x < 100:  6\n",
      "Total amount of values, before last data cleaning part:  39205\n"
     ]
    }
   ],
   "source": [
    "n = len(df)\n",
    "sum_df = summary_df[summary_df['count'] > 40]\n",
    "print('Lost values more than n values per school: ', n-len(df[df['id'].isin(sum_df.index.tolist())]))\n",
    "n = len(df[df['id'].isin(sum_df.index.tolist())])\n",
    "\n",
    "sum_df = sum_df[sum_df['max'] > 10] \n",
    "print('Lost values for schools that have a maximum less than 10: ', n-len(df[df['id'].isin(sum_df.index.tolist())]))\n",
    "n = len(df[df['id'].isin(sum_df.index.tolist())])\n",
    "\n",
    "sum_df = sum_df[sum_df['mean'] < 90]\n",
    "print('Lost values for schools with a mean higher than 90: ', n-len(df[df['id'].isin(sum_df.index.tolist())]))\n",
    "n = len(df[df['id'].isin(sum_df.index.tolist())])\n",
    "\n",
    "zeros_df = sum_df[~((sum_df['75%']==0) & (sum_df['max']==100))]\n",
    "print('75% zeros and a max of 100: ', n-len(df[df['id'].isin(zeros_df.index.tolist())]))\n",
    "n = len(df[df['id'].isin(zeros_df.index.tolist())])\n",
    "\n",
    "zeros_df = zeros_df[~(zeros_df['75%']==zeros_df['max'])]\n",
    "print('75% of values is equal to max: ', n-len(df[df['id'].isin(zeros_df.index.tolist())]))\n",
    "n = len(df[df['id'].isin(zeros_df.index.tolist())])\n",
    "\n",
    "zeros_df = zeros_df[~((zeros_df['mean']<2)&(zeros_df['max']>50))]\n",
    "print('Mean lower than 2 and max higher than 50: ', n-len(df[df['id'].isin(zeros_df.index.tolist())]))\n",
    "n = len(df[df['id'].isin(zeros_df.index.tolist())])\n",
    "\n",
    "# get df back from school level to observation level\n",
    "clean_school_df = (df[df['id'].isin(zeros_df.index.tolist())]) \n",
    "\n",
    "clean_df = clean_school_df[~((clean_school_df['value']>0) & (clean_school_df['value']<1.5))] # removes values 0<x<1.5\n",
    "print('Amount of values that are between 0 < x < 1.5: ', n-len(clean_df))\n",
    "n=len(clean_df)\n",
    "\n",
    "clean_df = clean_df[~((clean_df['value']<100) & (clean_df['value']>98.5))] # removes values 98.5<x<100\n",
    "print('Amount of vaues between 98.5 < x < 100: ', n-len(clean_df))\n",
    "\n",
    "print('Total amount of values, before last data cleaning part: ', len(clean_df))"
   ]
  },
  {
   "cell_type": "code",
   "execution_count": 97,
   "metadata": {},
   "outputs": [],
   "source": [
    "# Export DataFrame to csv file\n",
    "export_csv = clean_df.to_csv('OviTrapData.csv') "
   ]
  },
  {
   "cell_type": "markdown",
   "metadata": {},
   "source": [
    "## Create column that reports if a value occurs more than n (n=7) times in a row"
   ]
  },
  {
   "cell_type": "code",
   "execution_count": 98,
   "metadata": {},
   "outputs": [],
   "source": [
    "# Import filtered dataset\n",
    "df = pd.read_csv('OviTrapData.csv', parse_dates=['date'], usecols=['date', 'id', 'value', 'adm'])"
   ]
  },
  {
   "cell_type": "code",
   "execution_count": 101,
   "metadata": {},
   "outputs": [],
   "source": [
    "# adds the number of times a recurrent values occurs given that it occurs more than 5 times in a row\n",
    "i=0\n",
    "sequence = np.zeros(len(df))\n",
    "df = df[['date', 'id', 'value', 'adm']]\n",
    "while i < len(df)-1:\n",
    "    j = 1\n",
    "    value = df.iloc[i, 2]\n",
    "    value_id = df.iloc[i,1]\n",
    "    next_value = df.iloc[i+j, 2]\n",
    "    next_value_id = df.iloc[i+j, 1]\n",
    "    \n",
    "    while (next_value == value) and (next_value_id == value_id):\n",
    "        next_value = df.iloc[i+j, 2]\n",
    "        next_value_id = df.iloc[i+j, 1]\n",
    "        j = j + 1\n",
    "    \n",
    "    if j > 6:\n",
    "        sequence[i:(i+j-1)] = (j-1)\n",
    "        i = i + j - 1\n",
    "    else:\n",
    "        i = i + 1\n",
    "        \n",
    "df['Recurring value'] = sequence"
   ]
  },
  {
   "cell_type": "markdown",
   "metadata": {},
   "source": [
    "### Removes values that occur more than 7 times at the start or end of a school's observations"
   ]
  },
  {
   "cell_type": "code",
   "execution_count": 77,
   "metadata": {},
   "outputs": [
    {
     "name": "stdout",
     "output_type": "stream",
     "text": [
      "36933\n"
     ]
    }
   ],
   "source": [
    "# adds 1 if recurring values occur at the start of end of a schools observations\n",
    "\n",
    "current_school  = df['id'][0]\n",
    "first_last   = np.zeros(len(df))\n",
    "\n",
    "for i in range(len(df)):\n",
    "    new_school = df['id'][i]\n",
    "    if (current_school != new_school):\n",
    "        amount_last = int(df['Recurring value'][i-1])\n",
    "        amount_first = int(df['Recurring value'][i])\n",
    "        if amount_last > 0:\n",
    "            first_last[(i-amount_last):(i)] = 1     \n",
    "        if amount_first > 0:\n",
    "            first_last[i:(i+amount_first)] = 1\n",
    "\n",
    "    current_school = new_school\n",
    "\n",
    "amount = int(df['Recurring value'][len(df)-1])\n",
    "if amount > 0:\n",
    "    first_last[-amount:] = 1\n",
    "df['first_last'] = first_last\n",
    "\n",
    "# get rid of recurring values at the start or end of school\n",
    "check_df_id = df[((df['Recurring value']>0) & (df['first_last']>0))]\n",
    "df = df[~((df['Recurring value']>0) & (df['first_last']>0))]\n",
    "df = df.drop(columns = ['Recurring value', 'first_last'])"
   ]
  },
  {
   "cell_type": "markdown",
   "metadata": {},
   "source": [
    "### Create the final dataset"
   ]
  },
  {
   "cell_type": "code",
   "execution_count": 78,
   "metadata": {},
   "outputs": [],
   "source": [
    "df['date'] = pd.to_datetime(df['date'])\n",
    "df['week'] = df['date'].dt.week\n",
    "df['month'] = df['date'].dt.month\n",
    "df['year'] = df['date'].dt.year"
   ]
  },
  {
   "cell_type": "code",
   "execution_count": 79,
   "metadata": {},
   "outputs": [],
   "source": [
    "monthly_data = pd.DataFrame(df.groupby(['year', 'month', 'adm'])['value'].mean()).reset_index().sort_values(by=['adm', 'year'])\n",
    "monthly_data['day'] = np.ones(len(monthly_data))\n",
    "monthly_data['date'] = pd.to_datetime(monthly_data[['year', 'month', 'day']])\n",
    "monthly_data = monthly_data.drop(columns=['year', 'month','day'])\n",
    "month_fill = monthly_data.groupby(['adm', 'date']).sum()"
   ]
  },
  {
   "cell_type": "markdown",
   "metadata": {},
   "source": [
    "## Create missing value plot"
   ]
  },
  {
   "cell_type": "code",
   "execution_count": 80,
   "metadata": {},
   "outputs": [],
   "source": [
    "df_original = pd.read_csv(\"/Users/Yur/Downloads/ovitrap_data_with_province.csv\", index_col=[0], usecols = ['date', 'id', 'value', 'adm'])"
   ]
  },
  {
   "cell_type": "code",
   "execution_count": 81,
   "metadata": {},
   "outputs": [
    {
     "data": {
      "text/html": [
       "<div>\n",
       "<style scoped>\n",
       "    .dataframe tbody tr th:only-of-type {\n",
       "        vertical-align: middle;\n",
       "    }\n",
       "\n",
       "    .dataframe tbody tr th {\n",
       "        vertical-align: top;\n",
       "    }\n",
       "\n",
       "    .dataframe thead th {\n",
       "        text-align: right;\n",
       "    }\n",
       "</style>\n",
       "<table border=\"1\" class=\"dataframe\">\n",
       "  <thead>\n",
       "    <tr style=\"text-align: right;\">\n",
       "      <th></th>\n",
       "      <th></th>\n",
       "      <th>value</th>\n",
       "    </tr>\n",
       "    <tr>\n",
       "      <th>adm</th>\n",
       "      <th>date</th>\n",
       "      <th></th>\n",
       "    </tr>\n",
       "  </thead>\n",
       "  <tbody>\n",
       "    <tr>\n",
       "      <th rowspan=\"5\" valign=\"top\">NCR, Fourth District</th>\n",
       "      <th>2012-05-01</th>\n",
       "      <td>0.0</td>\n",
       "    </tr>\n",
       "    <tr>\n",
       "      <th>2012-06-01</th>\n",
       "      <td>0.0</td>\n",
       "    </tr>\n",
       "    <tr>\n",
       "      <th>2012-07-01</th>\n",
       "      <td>0.0</td>\n",
       "    </tr>\n",
       "    <tr>\n",
       "      <th>2012-08-01</th>\n",
       "      <td>0.0</td>\n",
       "    </tr>\n",
       "    <tr>\n",
       "      <th>2012-09-01</th>\n",
       "      <td>0.0</td>\n",
       "    </tr>\n",
       "  </tbody>\n",
       "</table>\n",
       "</div>"
      ],
      "text/plain": [
       "                                 value\n",
       "adm                  date             \n",
       "NCR, Fourth District 2012-05-01    0.0\n",
       "                     2012-06-01    0.0\n",
       "                     2012-07-01    0.0\n",
       "                     2012-08-01    0.0\n",
       "                     2012-09-01    0.0"
      ]
     },
     "execution_count": 81,
     "metadata": {},
     "output_type": "execute_result"
    }
   ],
   "source": [
    "adm_levels = df_og.adm.unique()\n",
    "months = pd.date_range(start='2012-05', end='2019-09', freq='MS') \n",
    "df_final = pd.DataFrame(index=pd.MultiIndex.from_product([adm_levels, months],\n",
    "                                                         names=['adm', 'date']))\n",
    "df_final['value'] = 0."
   ]
  },
  {
   "cell_type": "code",
   "execution_count": 82,
   "metadata": {},
   "outputs": [],
   "source": [
    "df_plot = df_final.add(month_fill, fill_value=-1).reset_index()"
   ]
  },
  {
   "cell_type": "code",
   "execution_count": 83,
   "metadata": {},
   "outputs": [],
   "source": [
    "import matplotlib.dates as mdates\n",
    "import matplotlib.ticker as ticker\n",
    "\n",
    "#Visualize missing values - code was found on the Internet\n",
    "def missing_values_graph(frame, obs, date, var, Yname):\n",
    "    df = frame[[obs, date, var]]\n",
    "    df[var].fillna(-1, inplace=True)\n",
    "    df = df.groupby([obs, date])[var].aggregate('mean').unstack()\n",
    "    df.columns = df.columns.strftime('%Y-%m')\n",
    "    df[df > 0] = 1\n",
    "    cmap = sns.xkcd_palette([\"light grey\", \"medium grey\"])\n",
    "    plt.figure(figsize=(18, 5))\n",
    "    ax = sns.heatmap(df, center=0, cmap=cmap, cbar=False,\n",
    "                     cbar_kws={'ticks': [-1, 0, 1]})\n",
    "    ax.set(yticklabels=[])\n",
    "    ax.set_xticklabels(df, fontsize='large', rotation=70)\n",
    "    plt.ylabel(Yname+ \" (N=\" + str(len(df)) + \")\", fontsize=14)\n",
    "    plt.tight_layout()\n",
    "\n",
    "    plt.show()"
   ]
  },
  {
   "cell_type": "code",
   "execution_count": 84,
   "metadata": {},
   "outputs": [
    {
     "data": {
      "image/png": "[encoded data removed]",
      "text/plain": [
       "<Figure size 1296x360 with 1 Axes>"
      ]
     },
     "metadata": {},
     "output_type": "display_data"
    }
   ],
   "source": [
    "missing_values_graph(df_plot, \"adm\", \"date\", \"value\", \"Present observations Per Province\")"
   ]
  },
  {
   "cell_type": "code",
   "execution_count": 85,
   "metadata": {},
   "outputs": [
    {
     "data": {
      "text/html": [
       "<div>\n",
       "<style scoped>\n",
       "    .dataframe tbody tr th:only-of-type {\n",
       "        vertical-align: middle;\n",
       "    }\n",
       "\n",
       "    .dataframe tbody tr th {\n",
       "        vertical-align: top;\n",
       "    }\n",
       "\n",
       "    .dataframe thead th {\n",
       "        text-align: right;\n",
       "    }\n",
       "</style>\n",
       "<table border=\"1\" class=\"dataframe\">\n",
       "  <thead>\n",
       "    <tr style=\"text-align: right;\">\n",
       "      <th></th>\n",
       "      <th></th>\n",
       "      <th>value</th>\n",
       "    </tr>\n",
       "    <tr>\n",
       "      <th>adm</th>\n",
       "      <th>date</th>\n",
       "      <th></th>\n",
       "    </tr>\n",
       "  </thead>\n",
       "  <tbody>\n",
       "    <tr>\n",
       "      <th rowspan=\"5\" valign=\"top\">NCR, Fourth District</th>\n",
       "      <th>2013-01-01</th>\n",
       "      <td>0.0</td>\n",
       "    </tr>\n",
       "    <tr>\n",
       "      <th>2013-02-01</th>\n",
       "      <td>0.0</td>\n",
       "    </tr>\n",
       "    <tr>\n",
       "      <th>2013-03-01</th>\n",
       "      <td>0.0</td>\n",
       "    </tr>\n",
       "    <tr>\n",
       "      <th>2013-04-01</th>\n",
       "      <td>0.0</td>\n",
       "    </tr>\n",
       "    <tr>\n",
       "      <th>2013-05-01</th>\n",
       "      <td>0.0</td>\n",
       "    </tr>\n",
       "  </tbody>\n",
       "</table>\n",
       "</div>"
      ],
      "text/plain": [
       "                                 value\n",
       "adm                  date             \n",
       "NCR, Fourth District 2013-01-01    0.0\n",
       "                     2013-02-01    0.0\n",
       "                     2013-03-01    0.0\n",
       "                     2013-04-01    0.0\n",
       "                     2013-05-01    0.0"
      ]
     },
     "execution_count": 85,
     "metadata": {},
     "output_type": "execute_result"
    }
   ],
   "source": [
    "adm_levels = df.adm.unique()\n",
    "months = pd.date_range(start='1/1/2013', end='1/12/2016', freq='MS') \n",
    "df_final = pd.DataFrame(index=pd.MultiIndex.from_product([adm_levels, months],\n",
    "                                                         names=['adm', 'date']))\n",
    "df_final['value'] = 0.\n",
    "df_final.head()"
   ]
  },
  {
   "cell_type": "code",
   "execution_count": 86,
   "metadata": {},
   "outputs": [],
   "source": [
    "aggregated_month = df_final.add(month_fill, fill_value=0).reset_index()"
   ]
  },
  {
   "cell_type": "code",
   "execution_count": 90,
   "metadata": {},
   "outputs": [],
   "source": [
    "# dataset without filled months, that are not in the dates of a specific province's observations\n",
    "export_csv = month_fill.to_csv('monthly_mosquito_per_province.csv') "
   ]
  },
  {
   "cell_type": "code",
   "execution_count": 92,
   "metadata": {},
   "outputs": [],
   "source": [
    "# dataset with filled months, that are not in the dates of a specific province's observations\n",
    "export_csv = aggregated_month.to_csv('aggregated_monthly.csv') "
   ]
  },
  {
   "cell_type": "code",
   "execution_count": null,
   "metadata": {},
   "outputs": [],
   "source": []
  },
  {
   "cell_type": "code",
   "execution_count": 88,
   "metadata": {},
   "outputs": [
    {
     "name": "stdout",
     "output_type": "stream",
     "text": [
      "NCR, Fourth District  #schools =  43\n",
      "NCR, City of Manila, First District  #schools =  13\n",
      "NCR, Second District  #schools =  26\n",
      "NCR, Third District  #schools =  38\n",
      "Bulacan  #schools =  30\n",
      "Albay  #schools =  20\n",
      "Aurora  #schools =  5\n",
      "Leyte  #schools =  10\n",
      "Compostela Valley  #schools =  11\n",
      "Negros Occidental  #schools =  1\n",
      "Davao del Sur  #schools =  12\n",
      "Camarines Sur  #schools =  8\n",
      "Iloilo  #schools =  5\n",
      "Marinduque  #schools =  11\n",
      "Zamboanga Sibugay  #schools =  6\n",
      "Occidental Mindoro  #schools =  2\n",
      "Zamboanga del Sur  #schools =  10\n",
      "Cavite  #schools =  16\n",
      "Oriental Mindoro  #schools =  6\n",
      "Romblon  #schools =  4\n",
      "Nueva Ecija  #schools =  19\n",
      "Masbate  #schools =  9\n",
      "Sorsogon  #schools =  8\n",
      "Cebu  #schools =  11\n",
      "Bataan  #schools =  11\n",
      "Tarlac  #schools =  9\n",
      "Batangas  #schools =  33\n",
      "Zambales  #schools =  6\n",
      "Pampanga  #schools =  11\n",
      "Bukidnon  #schools =  5\n",
      "Zamboanga del Norte  #schools =  12\n",
      "Quezon  #schools =  31\n",
      "Negros Oriental  #schools =  5\n",
      "Siquijor  #schools =  2\n",
      "Laguna  #schools =  27\n",
      "Isabela  #schools =  1\n",
      "Bohol  #schools =  8\n",
      "Camarines Norte  #schools =  4\n",
      "Catanduanes  #schools =  5\n",
      "Rizal  #schools =  16\n",
      "Davao del Norte  #schools =  13\n",
      "Palawan  #schools =  6\n",
      "Davao Oriental  #schools =  7\n",
      "Davao Occidental  #schools =  2\n",
      "Benguet  #schools =  3\n",
      "Ifugao  #schools =  8\n",
      "Mountain Province  #schools =  8\n",
      "Abra  #schools =  12\n",
      "Apayao  #schools =  3\n",
      "Kalinga  #schools =  2\n",
      "Pangasinan  #schools =  37\n",
      "Southern Leyte  #schools =  4\n",
      "Samar  #schools =  2\n",
      "La Union  #schools =  9\n",
      "Ilocos Norte  #schools =  19\n",
      "Cotabato  #schools =  1\n",
      "Ilocos Sur  #schools =  5\n",
      "Misamis Oriental  #schools =  1\n",
      "Agusan del Norte  #schools =  1\n",
      "Dinagat Islands  #schools =  1\n"
     ]
    }
   ],
   "source": [
    "# Print number of schools in each province in the dataset\n",
    "provinces = df.adm.unique().tolist()\n",
    "#make a dictionary, place means in this dictionary\n",
    "for province in provinces:\n",
    "    df_province = df[df['adm']==province]\n",
    "    n_schools = len(df_province['id'].unique().tolist())\n",
    "    np.zeros(n_schools)\n",
    "    for school in df_province['id'].unique().tolist():\n",
    "        df_school = df_province[df_province['id']==school]\n",
    "    print(province, ' #schools = ', n_schools)"
   ]
  }
 ],
 "metadata": {
  "kernelspec": {
   "display_name": "Python 3",
   "language": "python",
   "name": "python3"
  },
  "language_info": {
   "codemirror_mode": {
    "name": "ipython",
    "version": 3
   },
   "file_extension": ".py",
   "mimetype": "text/x-python",
   "name": "python",
   "nbconvert_exporter": "python",
   "pygments_lexer": "ipython3",
   "version": "3.6.7"
  }
 },
 "nbformat": 4,
 "nbformat_minor": 2
}
